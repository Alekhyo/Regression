{
  "nbformat": 4,
  "nbformat_minor": 0,
  "metadata": {
    "kernelspec": {
      "display_name": "Python 3",
      "language": "python",
      "name": "python3"
    },
    "language_info": {
      "codemirror_mode": {
        "name": "ipython",
        "version": 3
      },
      "file_extension": ".py",
      "mimetype": "text/x-python",
      "name": "python",
      "nbconvert_exporter": "python",
      "pygments_lexer": "ipython3",
      "version": "3.7.6"
    },
    "colab": {
      "name": "Linear_Regression_using_OLS (2).ipynb",
      "provenance": [],
      "include_colab_link": true
    }
  },
  "cells": [
    {
      "cell_type": "markdown",
      "metadata": {
        "id": "view-in-github",
        "colab_type": "text"
      },
      "source": [
        "<a href=\"https://colab.research.google.com/github/Alekhyo/Regression/blob/master/Linear_Regression_using_OLS.ipynb\" target=\"_parent\"><img src=\"https://colab.research.google.com/assets/colab-badge.svg\" alt=\"Open In Colab\"/></a>"
      ]
    },
    {
      "cell_type": "code",
      "metadata": {
        "id": "LPuoco2YUFUR",
        "colab_type": "code",
        "colab": {}
      },
      "source": [
        "import numpy as np\n",
        "import pandas as pd\n",
        "import matplotlib.pyplot as plt\n",
        "import seaborn as sns\n",
        "from sklearn.model_selection import train_test_split\n",
        "%matplotlib inline"
      ],
      "execution_count": 0,
      "outputs": []
    },
    {
      "cell_type": "code",
      "metadata": {
        "id": "npHXSAN2UFUV",
        "colab_type": "code",
        "colab": {}
      },
      "source": [
        "def plotData(x, y):\n",
        "    '''\n",
        "      A function to plot a graph between Salary and Year_of_Experience\n",
        "    '''\n",
        "    fig = plt.figure()\n",
        "    plt.style.use('ggplot')\n",
        "    plt.plot(X, Y, 'ro', ms=8, mec='k',label='Data points')\n",
        "    plt.ylabel('Salary')\n",
        "    plt.xlabel('Years in Experience')\n",
        "    plt.legend(loc='upper left')"
      ],
      "execution_count": 0,
      "outputs": []
    },
    {
      "cell_type": "code",
      "metadata": {
        "id": "4dMpvm8lUFUX",
        "colab_type": "code",
        "colab": {}
      },
      "source": [
        "data=pd.read_csv('Salary_Data.csv')"
      ],
      "execution_count": 0,
      "outputs": []
    },
    {
      "cell_type": "markdown",
      "metadata": {
        "id": "pqJYmHs-UFUZ",
        "colab_type": "text"
      },
      "source": [
        "## Analysing Data"
      ]
    },
    {
      "cell_type": "code",
      "metadata": {
        "id": "LtpmOHeWUFUa",
        "colab_type": "code",
        "colab": {},
        "outputId": "bb40886b-4ae6-4d07-8b75-017a73290bc9"
      },
      "source": [
        "data"
      ],
      "execution_count": 0,
      "outputs": [
        {
          "output_type": "execute_result",
          "data": {
            "text/html": [
              "<div>\n",
              "<style scoped>\n",
              "    .dataframe tbody tr th:only-of-type {\n",
              "        vertical-align: middle;\n",
              "    }\n",
              "\n",
              "    .dataframe tbody tr th {\n",
              "        vertical-align: top;\n",
              "    }\n",
              "\n",
              "    .dataframe thead th {\n",
              "        text-align: right;\n",
              "    }\n",
              "</style>\n",
              "<table border=\"1\" class=\"dataframe\">\n",
              "  <thead>\n",
              "    <tr style=\"text-align: right;\">\n",
              "      <th></th>\n",
              "      <th>YearsExperience</th>\n",
              "      <th>Salary</th>\n",
              "    </tr>\n",
              "  </thead>\n",
              "  <tbody>\n",
              "    <tr>\n",
              "      <th>0</th>\n",
              "      <td>1.1</td>\n",
              "      <td>39343.0</td>\n",
              "    </tr>\n",
              "    <tr>\n",
              "      <th>1</th>\n",
              "      <td>1.3</td>\n",
              "      <td>46205.0</td>\n",
              "    </tr>\n",
              "    <tr>\n",
              "      <th>2</th>\n",
              "      <td>1.5</td>\n",
              "      <td>37731.0</td>\n",
              "    </tr>\n",
              "    <tr>\n",
              "      <th>3</th>\n",
              "      <td>2.0</td>\n",
              "      <td>43525.0</td>\n",
              "    </tr>\n",
              "    <tr>\n",
              "      <th>4</th>\n",
              "      <td>2.2</td>\n",
              "      <td>39891.0</td>\n",
              "    </tr>\n",
              "    <tr>\n",
              "      <th>5</th>\n",
              "      <td>2.9</td>\n",
              "      <td>56642.0</td>\n",
              "    </tr>\n",
              "    <tr>\n",
              "      <th>6</th>\n",
              "      <td>3.0</td>\n",
              "      <td>60150.0</td>\n",
              "    </tr>\n",
              "    <tr>\n",
              "      <th>7</th>\n",
              "      <td>3.2</td>\n",
              "      <td>54445.0</td>\n",
              "    </tr>\n",
              "    <tr>\n",
              "      <th>8</th>\n",
              "      <td>3.2</td>\n",
              "      <td>64445.0</td>\n",
              "    </tr>\n",
              "    <tr>\n",
              "      <th>9</th>\n",
              "      <td>3.7</td>\n",
              "      <td>57189.0</td>\n",
              "    </tr>\n",
              "    <tr>\n",
              "      <th>10</th>\n",
              "      <td>3.9</td>\n",
              "      <td>63218.0</td>\n",
              "    </tr>\n",
              "    <tr>\n",
              "      <th>11</th>\n",
              "      <td>4.0</td>\n",
              "      <td>55794.0</td>\n",
              "    </tr>\n",
              "    <tr>\n",
              "      <th>12</th>\n",
              "      <td>4.0</td>\n",
              "      <td>56957.0</td>\n",
              "    </tr>\n",
              "    <tr>\n",
              "      <th>13</th>\n",
              "      <td>4.1</td>\n",
              "      <td>57081.0</td>\n",
              "    </tr>\n",
              "    <tr>\n",
              "      <th>14</th>\n",
              "      <td>4.5</td>\n",
              "      <td>61111.0</td>\n",
              "    </tr>\n",
              "    <tr>\n",
              "      <th>15</th>\n",
              "      <td>4.9</td>\n",
              "      <td>67938.0</td>\n",
              "    </tr>\n",
              "    <tr>\n",
              "      <th>16</th>\n",
              "      <td>5.1</td>\n",
              "      <td>66029.0</td>\n",
              "    </tr>\n",
              "    <tr>\n",
              "      <th>17</th>\n",
              "      <td>5.3</td>\n",
              "      <td>83088.0</td>\n",
              "    </tr>\n",
              "    <tr>\n",
              "      <th>18</th>\n",
              "      <td>5.9</td>\n",
              "      <td>81363.0</td>\n",
              "    </tr>\n",
              "    <tr>\n",
              "      <th>19</th>\n",
              "      <td>6.0</td>\n",
              "      <td>93940.0</td>\n",
              "    </tr>\n",
              "    <tr>\n",
              "      <th>20</th>\n",
              "      <td>6.8</td>\n",
              "      <td>91738.0</td>\n",
              "    </tr>\n",
              "    <tr>\n",
              "      <th>21</th>\n",
              "      <td>7.1</td>\n",
              "      <td>98273.0</td>\n",
              "    </tr>\n",
              "    <tr>\n",
              "      <th>22</th>\n",
              "      <td>7.9</td>\n",
              "      <td>101302.0</td>\n",
              "    </tr>\n",
              "    <tr>\n",
              "      <th>23</th>\n",
              "      <td>8.2</td>\n",
              "      <td>113812.0</td>\n",
              "    </tr>\n",
              "    <tr>\n",
              "      <th>24</th>\n",
              "      <td>8.7</td>\n",
              "      <td>109431.0</td>\n",
              "    </tr>\n",
              "    <tr>\n",
              "      <th>25</th>\n",
              "      <td>9.0</td>\n",
              "      <td>105582.0</td>\n",
              "    </tr>\n",
              "    <tr>\n",
              "      <th>26</th>\n",
              "      <td>9.5</td>\n",
              "      <td>116969.0</td>\n",
              "    </tr>\n",
              "    <tr>\n",
              "      <th>27</th>\n",
              "      <td>9.6</td>\n",
              "      <td>112635.0</td>\n",
              "    </tr>\n",
              "    <tr>\n",
              "      <th>28</th>\n",
              "      <td>10.3</td>\n",
              "      <td>122391.0</td>\n",
              "    </tr>\n",
              "    <tr>\n",
              "      <th>29</th>\n",
              "      <td>10.5</td>\n",
              "      <td>121872.0</td>\n",
              "    </tr>\n",
              "  </tbody>\n",
              "</table>\n",
              "</div>"
            ],
            "text/plain": [
              "    YearsExperience    Salary\n",
              "0               1.1   39343.0\n",
              "1               1.3   46205.0\n",
              "2               1.5   37731.0\n",
              "3               2.0   43525.0\n",
              "4               2.2   39891.0\n",
              "5               2.9   56642.0\n",
              "6               3.0   60150.0\n",
              "7               3.2   54445.0\n",
              "8               3.2   64445.0\n",
              "9               3.7   57189.0\n",
              "10              3.9   63218.0\n",
              "11              4.0   55794.0\n",
              "12              4.0   56957.0\n",
              "13              4.1   57081.0\n",
              "14              4.5   61111.0\n",
              "15              4.9   67938.0\n",
              "16              5.1   66029.0\n",
              "17              5.3   83088.0\n",
              "18              5.9   81363.0\n",
              "19              6.0   93940.0\n",
              "20              6.8   91738.0\n",
              "21              7.1   98273.0\n",
              "22              7.9  101302.0\n",
              "23              8.2  113812.0\n",
              "24              8.7  109431.0\n",
              "25              9.0  105582.0\n",
              "26              9.5  116969.0\n",
              "27              9.6  112635.0\n",
              "28             10.3  122391.0\n",
              "29             10.5  121872.0"
            ]
          },
          "metadata": {
            "tags": []
          },
          "execution_count": 4
        }
      ]
    },
    {
      "cell_type": "code",
      "metadata": {
        "id": "dRYUkfwyUFUd",
        "colab_type": "code",
        "colab": {},
        "outputId": "d4702213-0492-4468-cef3-bc9f950499a4"
      },
      "source": [
        "data.isnull().any()"
      ],
      "execution_count": 0,
      "outputs": [
        {
          "output_type": "execute_result",
          "data": {
            "text/plain": [
              "YearsExperience    False\n",
              "Salary             False\n",
              "dtype: bool"
            ]
          },
          "metadata": {
            "tags": []
          },
          "execution_count": 5
        }
      ]
    },
    {
      "cell_type": "code",
      "metadata": {
        "id": "VYcJhX5vUFUf",
        "colab_type": "code",
        "colab": {},
        "outputId": "65a29a9b-819b-40fd-8f36-f9acc9d26684"
      },
      "source": [
        "data.info()"
      ],
      "execution_count": 0,
      "outputs": [
        {
          "output_type": "stream",
          "text": [
            "<class 'pandas.core.frame.DataFrame'>\n",
            "RangeIndex: 30 entries, 0 to 29\n",
            "Data columns (total 2 columns):\n",
            "YearsExperience    30 non-null float64\n",
            "Salary             30 non-null float64\n",
            "dtypes: float64(2)\n",
            "memory usage: 608.0 bytes\n"
          ],
          "name": "stdout"
        }
      ]
    },
    {
      "cell_type": "code",
      "metadata": {
        "id": "CQe0o0cLUFUh",
        "colab_type": "code",
        "colab": {}
      },
      "source": [
        ""
      ],
      "execution_count": 0,
      "outputs": []
    },
    {
      "cell_type": "code",
      "metadata": {
        "id": "EBwgbLJNUFUk",
        "colab_type": "code",
        "colab": {}
      },
      "source": [
        "X=data.loc[:,'YearsExperience'].values "
      ],
      "execution_count": 0,
      "outputs": []
    },
    {
      "cell_type": "code",
      "metadata": {
        "id": "DEJ2JTDQUFUm",
        "colab_type": "code",
        "colab": {}
      },
      "source": [
        "Y=data.loc[:,'Salary'].values         "
      ],
      "execution_count": 0,
      "outputs": []
    },
    {
      "cell_type": "markdown",
      "metadata": {
        "id": "7b_OtltCUFUo",
        "colab_type": "text"
      },
      "source": [
        "### Visualising Data"
      ]
    },
    {
      "cell_type": "code",
      "metadata": {
        "id": "rqoD53g3UFUo",
        "colab_type": "code",
        "colab": {},
        "outputId": "5f2376e0-35d7-4b83-a2be-7d9959090384"
      },
      "source": [
        "plotData(X,Y)"
      ],
      "execution_count": 0,
      "outputs": [
        {
          "output_type": "display_data",
          "data": {
            "image/png": "[encoded data removed]",
            "text/plain": [
              "<Figure size 432x288 with 1 Axes>"
            ]
          },
          "metadata": {
            "tags": [],
            "needs_background": "light"
          }
        }
      ]
    },
    {
      "cell_type": "markdown",
      "metadata": {
        "id": "yDDTbNs1UFUq",
        "colab_type": "text"
      },
      "source": [
        "# Linear Regression (using OLS)"
      ]
    },
    {
      "cell_type": "code",
      "metadata": {
        "id": "-n7KIbA5UFUr",
        "colab_type": "code",
        "colab": {}
      },
      "source": [
        "class LinearRegression():\n",
        "    def __init__(self):\n",
        "        self._X_mean=0\n",
        "        self._Y_mean=0\n",
        "        self._slope=0\n",
        "        self._intercept=0        \n",
        "    \n",
        "    def fit(self,X_data,Y_data):  # fit() function calculates slope and intercept of the best fit line\n",
        "        '''The formula for the best fit line :\n",
        "            y = m*x+b, where\n",
        "            \n",
        "            m = slope\n",
        "            b = intercept\n",
        "            \n",
        "            Now, m = sum((Xi - X_bar)*(Yi - Y_bar))/((Xi - X_bar)^2)\n",
        "                 b = Y_bar - (m*X_bar)\n",
        "        '''\n",
        "        self._X_mean=X_data.mean()\n",
        "        self._Y_mean=Y_data.mean()\n",
        "        self._slope=np.sum((X_data-self._X_mean)*(Y_data-self._Y_mean))/(np.sum(np.square(X_data-self._X_mean)))\n",
        "        self._intercept=self._Y_mean-self._slope*self._X_mean\n",
        "        \n",
        "        \n",
        "    \n",
        "    def predict(self,X_data):  #predict() function predicts Y for given values of X\n",
        "        Y_pred=self._slope*X_data+self._intercept\n",
        "        return Y_pred\n",
        "    \n",
        "    def calculate_r2(self,Y_test,Y_predict):\n",
        "        '''The formula for r2_score is:\n",
        "            r2=1-sum(Y_test-Y_predict)^2/sum(Y_test-Y_predict_bar)^2\n",
        "        '''\n",
        "        r2=1-(np.sum(np.square(Y_test-Y_predict))/np.sum(np.square(Y_test-Y_predict.mean())))\n",
        "        return r2\n",
        "    \n",
        "    def get_slope(self):\n",
        "        '''\n",
        "            Getter Method to return the slope of the line.\n",
        "        \n",
        "        '''\n",
        "        return self._slope\n",
        "    \n",
        "    def get_intercept(self):\n",
        "        '''\n",
        "            Getter Method to return the intercept of the line\n",
        "        '''\n",
        "        \n",
        "        return self._intercept"
      ],
      "execution_count": 0,
      "outputs": []
    },
    {
      "cell_type": "code",
      "metadata": {
        "id": "nC2_2tqTUFUt",
        "colab_type": "code",
        "colab": {}
      },
      "source": [
        "X_train,X_test,Y_train,Y_test=train_test_split(X,Y,test_size=0.3,random_state=3)  #Splitting data into test points&train points"
      ],
      "execution_count": 0,
      "outputs": []
    },
    {
      "cell_type": "code",
      "metadata": {
        "id": "a-cbbd35UFUv",
        "colab_type": "code",
        "colab": {}
      },
      "source": [
        ""
      ],
      "execution_count": 0,
      "outputs": []
    },
    {
      "cell_type": "markdown",
      "metadata": {
        "id": "sYTq9r16UFUx",
        "colab_type": "text"
      },
      "source": [
        "## Predicting Model"
      ]
    },
    {
      "cell_type": "code",
      "metadata": {
        "id": "8hGe3UtVUFUx",
        "colab_type": "code",
        "colab": {}
      },
      "source": [
        "lr=LinearRegression()\n",
        "lr.fit(X_train,Y_train)\n",
        "Y_predict=lr.predict(X_test)\n",
        "r2_score=lr.calculate_r2(Y_test,Y_predict)"
      ],
      "execution_count": 0,
      "outputs": []
    },
    {
      "cell_type": "code",
      "metadata": {
        "id": "Uv0oldqTUFU1",
        "colab_type": "code",
        "colab": {},
        "outputId": "2604c8c3-8ab0-4d9f-ba36-e24c8986a4a8"
      },
      "source": [
        "print(\"R2 score for this model is \",r2_score)"
      ],
      "execution_count": 0,
      "outputs": [
        {
          "output_type": "stream",
          "text": [
            "R2 score for this model is  0.9424459594939488\n"
          ],
          "name": "stdout"
        }
      ]
    },
    {
      "cell_type": "code",
      "metadata": {
        "id": "cB2W0a71UFU3",
        "colab_type": "code",
        "colab": {}
      },
      "source": [
        "equation='Y='+str(round(lr.get_slope(),2))+'*X+'+str(round(lr.get_intercept(),2))"
      ],
      "execution_count": 0,
      "outputs": []
    },
    {
      "cell_type": "markdown",
      "metadata": {
        "id": "Tk0ReFPEUFU5",
        "colab_type": "text"
      },
      "source": [
        "## Visualising the best fit line"
      ]
    },
    {
      "cell_type": "code",
      "metadata": {
        "id": "I1DNS_2_UFU5",
        "colab_type": "code",
        "colab": {},
        "outputId": "ea826362-87e8-496b-905e-9e66b6955faf"
      },
      "source": [
        "plotData(X,Y)\n",
        "plt.plot(X_test,Y_predict,color='blue', label='fitted line')\n",
        "plt.legend(loc='upper left')\n",
        "plt.figtext(0.25,1,s='Equation of the line is {}'.format(equation))\n",
        "plt.show()"
      ],
      "execution_count": 0,
      "outputs": [
        {
          "output_type": "display_data",
          "data": {
            "image/png": "[encoded data removed]",
            "text/plain": [
              "<Figure size 432x288 with 1 Axes>"
            ]
          },
          "metadata": {
            "tags": []
          }
        }
      ]
    },
    {
      "cell_type": "code",
      "metadata": {
        "id": "uD1b4TaOUFU8",
        "colab_type": "code",
        "colab": {}
      },
      "source": [
        ""
      ],
      "execution_count": 0,
      "outputs": []
    }
  ]
}