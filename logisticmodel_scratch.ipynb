{
  "nbformat": 4,
  "nbformat_minor": 0,
  "metadata": {
    "kernelspec": {
      "display_name": "Python 3",
      "language": "python",
      "name": "python3"
    },
    "language_info": {
      "codemirror_mode": {
        "name": "ipython",
        "version": 3
      },
      "file_extension": ".py",
      "mimetype": "text/x-python",
      "name": "python",
      "nbconvert_exporter": "python",
      "pygments_lexer": "ipython3",
      "version": "3.7.6"
    },
    "colab": {
      "name": "logisticmodel_scratch.ipynb",
      "provenance": [],
      "include_colab_link": true
    }
  },
  "cells": [
    {
      "cell_type": "markdown",
      "metadata": {
        "id": "view-in-github",
        "colab_type": "text"
      },
      "source": [
        "<a href=\"https://colab.research.google.com/github/Alekhyo/Regression/blob/master/logisticmodel_scratch.ipynb\" target=\"_parent\"><img src=\"https://colab.research.google.com/assets/colab-badge.svg\" alt=\"Open In Colab\"/></a>"
      ]
    },
    {
      "cell_type": "code",
      "metadata": {
        "id": "p7r62iYZ60dX",
        "colab_type": "code",
        "colab": {}
      },
      "source": [
        "import numpy as np\n",
        "import pandas as pd\n",
        "import matplotlib.pyplot as plt"
      ],
      "execution_count": null,
      "outputs": []
    },
    {
      "cell_type": "markdown",
      "metadata": {
        "id": "NnX8ugP860da",
        "colab_type": "text"
      },
      "source": [
        "## Reading Data"
      ]
    },
    {
      "cell_type": "code",
      "metadata": {
        "id": "v7pbwsmQ60db",
        "colab_type": "code",
        "colab": {}
      },
      "source": [
        "data=pd.read_csv('dataset.txt')"
      ],
      "execution_count": null,
      "outputs": []
    },
    {
      "cell_type": "code",
      "metadata": {
        "id": "AhSI3jHH60dd",
        "colab_type": "code",
        "colab": {},
        "outputId": "3971e063-7430-4ab5-cfba-53be4b16436e"
      },
      "source": [
        "data"
      ],
      "execution_count": null,
      "outputs": [
        {
          "output_type": "execute_result",
          "data": {
            "text/html": [
              "<div>\n",
              "<style scoped>\n",
              "    .dataframe tbody tr th:only-of-type {\n",
              "        vertical-align: middle;\n",
              "    }\n",
              "\n",
              "    .dataframe tbody tr th {\n",
              "        vertical-align: top;\n",
              "    }\n",
              "\n",
              "    .dataframe thead th {\n",
              "        text-align: right;\n",
              "    }\n",
              "</style>\n",
              "<table border=\"1\" class=\"dataframe\">\n",
              "  <thead>\n",
              "    <tr style=\"text-align: right;\">\n",
              "      <th></th>\n",
              "      <th>Marks_1</th>\n",
              "      <th>Marks_2</th>\n",
              "      <th>Result</th>\n",
              "    </tr>\n",
              "  </thead>\n",
              "  <tbody>\n",
              "    <tr>\n",
              "      <th>0</th>\n",
              "      <td>34.623660</td>\n",
              "      <td>78.024693</td>\n",
              "      <td>0</td>\n",
              "    </tr>\n",
              "    <tr>\n",
              "      <th>1</th>\n",
              "      <td>30.286711</td>\n",
              "      <td>43.894998</td>\n",
              "      <td>0</td>\n",
              "    </tr>\n",
              "    <tr>\n",
              "      <th>2</th>\n",
              "      <td>35.847409</td>\n",
              "      <td>72.902198</td>\n",
              "      <td>0</td>\n",
              "    </tr>\n",
              "    <tr>\n",
              "      <th>3</th>\n",
              "      <td>60.182599</td>\n",
              "      <td>86.308552</td>\n",
              "      <td>1</td>\n",
              "    </tr>\n",
              "    <tr>\n",
              "      <th>4</th>\n",
              "      <td>79.032736</td>\n",
              "      <td>75.344376</td>\n",
              "      <td>1</td>\n",
              "    </tr>\n",
              "    <tr>\n",
              "      <th>...</th>\n",
              "      <td>...</td>\n",
              "      <td>...</td>\n",
              "      <td>...</td>\n",
              "    </tr>\n",
              "    <tr>\n",
              "      <th>95</th>\n",
              "      <td>83.489163</td>\n",
              "      <td>48.380286</td>\n",
              "      <td>1</td>\n",
              "    </tr>\n",
              "    <tr>\n",
              "      <th>96</th>\n",
              "      <td>42.261701</td>\n",
              "      <td>87.103851</td>\n",
              "      <td>1</td>\n",
              "    </tr>\n",
              "    <tr>\n",
              "      <th>97</th>\n",
              "      <td>99.315009</td>\n",
              "      <td>68.775409</td>\n",
              "      <td>1</td>\n",
              "    </tr>\n",
              "    <tr>\n",
              "      <th>98</th>\n",
              "      <td>55.340018</td>\n",
              "      <td>64.931938</td>\n",
              "      <td>1</td>\n",
              "    </tr>\n",
              "    <tr>\n",
              "      <th>99</th>\n",
              "      <td>74.775893</td>\n",
              "      <td>89.529813</td>\n",
              "      <td>1</td>\n",
              "    </tr>\n",
              "  </tbody>\n",
              "</table>\n",
              "<p>100 rows × 3 columns</p>\n",
              "</div>"
            ],
            "text/plain": [
              "      Marks_1    Marks_2  Result\n",
              "0   34.623660  78.024693       0\n",
              "1   30.286711  43.894998       0\n",
              "2   35.847409  72.902198       0\n",
              "3   60.182599  86.308552       1\n",
              "4   79.032736  75.344376       1\n",
              "..        ...        ...     ...\n",
              "95  83.489163  48.380286       1\n",
              "96  42.261701  87.103851       1\n",
              "97  99.315009  68.775409       1\n",
              "98  55.340018  64.931938       1\n",
              "99  74.775893  89.529813       1\n",
              "\n",
              "[100 rows x 3 columns]"
            ]
          },
          "metadata": {
            "tags": []
          },
          "execution_count": 250
        }
      ]
    },
    {
      "cell_type": "code",
      "metadata": {
        "id": "JcgSXQWD60dg",
        "colab_type": "code",
        "colab": {}
      },
      "source": [
        "X=data.iloc[:,0:-1].values\n",
        "y=data.iloc[:,-1].values"
      ],
      "execution_count": null,
      "outputs": []
    },
    {
      "cell_type": "markdown",
      "metadata": {
        "id": "DQKphU3460dj",
        "colab_type": "text"
      },
      "source": [
        "## Visualising Data"
      ]
    },
    {
      "cell_type": "code",
      "metadata": {
        "id": "6eNNjinP60dj",
        "colab_type": "code",
        "colab": {}
      },
      "source": [
        "def plotData(X, y):\n",
        "    \"\"\"\n",
        "    Plots the data points X and y into a new figure. Plots the data \n",
        "    points with * for the positive examples and o for the negative examples.   \n",
        "    \"\"\" \n",
        "    pos = y == 1\n",
        "    neg = y == 0\n",
        "    \n",
        "    plt.plot(X[pos, 0], X[pos, 1], 'k*')\n",
        "    plt.plot(X[neg, 0], X[neg, 1], 'ko', mfc='y', mec='k')"
      ],
      "execution_count": null,
      "outputs": []
    },
    {
      "cell_type": "code",
      "metadata": {
        "id": "KngiNqyi60dl",
        "colab_type": "code",
        "colab": {},
        "outputId": "b240d5c5-fba4-43dd-f718-05275f40c046"
      },
      "source": [
        "plotData(X, y)\n",
        "\n",
        "plt.xlabel('Exam 1 score')\n",
        "plt.ylabel('Exam 2 score')\n",
        "plt.legend(['Admitted', 'Not admitted'])\n",
        "\n",
        "plt.show()"
      ],
      "execution_count": null,
      "outputs": [
        {
          "output_type": "display_data",
          "data": {
            "image/png": "[encoded data removed]",
            "text/plain": [
              "<Figure size 432x288 with 1 Axes>"
            ]
          },
          "metadata": {
            "tags": [],
            "needs_background": "light"
          }
        }
      ]
    },
    {
      "cell_type": "code",
      "metadata": {
        "id": "l0DJ6Qba60dn",
        "colab_type": "code",
        "colab": {}
      },
      "source": [
        ""
      ],
      "execution_count": null,
      "outputs": []
    },
    {
      "cell_type": "code",
      "metadata": {
        "id": "Z_OGlVNG60ds",
        "colab_type": "code",
        "colab": {},
        "outputId": "abbe4769-cdb2-475f-f9ab-d6fb94c98b1c"
      },
      "source": [
        "# Add intercept term to X\n",
        "X=np.hstack((np.ones((X.shape[0],1)),X))\n",
        "X"
      ],
      "execution_count": null,
      "outputs": [
        {
          "output_type": "execute_result",
          "data": {
            "text/plain": [
              "array([[ 1.        , 34.62365962, 78.02469282],\n",
              "       [ 1.        , 30.28671077, 43.89499752],\n",
              "       [ 1.        , 35.84740877, 72.90219803],\n",
              "       [ 1.        , 60.18259939, 86.3085521 ],\n",
              "       [ 1.        , 79.03273605, 75.34437644],\n",
              "       [ 1.        , 45.08327748, 56.31637178],\n",
              "       [ 1.        , 61.10666454, 96.51142588],\n",
              "       [ 1.        , 75.02474557, 46.55401354],\n",
              "       [ 1.        , 76.0987867 , 87.42056972],\n",
              "       [ 1.        , 84.43281996, 43.53339331],\n",
              "       [ 1.        , 95.86155507, 38.22527806],\n",
              "       [ 1.        , 75.01365839, 30.60326323],\n",
              "       [ 1.        , 82.30705337, 76.4819633 ],\n",
              "       [ 1.        , 69.36458876, 97.71869196],\n",
              "       [ 1.        , 39.53833914, 76.03681085],\n",
              "       [ 1.        , 53.97105215, 89.20735014],\n",
              "       [ 1.        , 69.07014406, 52.74046973],\n",
              "       [ 1.        , 67.94685548, 46.67857411],\n",
              "       [ 1.        , 70.66150955, 92.92713789],\n",
              "       [ 1.        , 76.97878373, 47.57596365],\n",
              "       [ 1.        , 67.37202755, 42.83843832],\n",
              "       [ 1.        , 89.67677575, 65.79936593],\n",
              "       [ 1.        , 50.53478829, 48.85581153],\n",
              "       [ 1.        , 34.21206098, 44.2095286 ],\n",
              "       [ 1.        , 77.92409145, 68.97235999],\n",
              "       [ 1.        , 62.27101367, 69.95445795],\n",
              "       [ 1.        , 80.19018075, 44.82162893],\n",
              "       [ 1.        , 93.1143888 , 38.80067034],\n",
              "       [ 1.        , 61.83020602, 50.25610789],\n",
              "       [ 1.        , 38.7858038 , 64.99568096],\n",
              "       [ 1.        , 61.37928945, 72.80788731],\n",
              "       [ 1.        , 85.40451939, 57.05198398],\n",
              "       [ 1.        , 52.10797973, 63.12762377],\n",
              "       [ 1.        , 52.04540477, 69.43286012],\n",
              "       [ 1.        , 40.23689374, 71.16774802],\n",
              "       [ 1.        , 54.63510555, 52.21388588],\n",
              "       [ 1.        , 33.91550011, 98.86943574],\n",
              "       [ 1.        , 64.17698887, 80.90806059],\n",
              "       [ 1.        , 74.78925296, 41.57341523],\n",
              "       [ 1.        , 34.18364003, 75.23772034],\n",
              "       [ 1.        , 83.90239366, 56.30804622],\n",
              "       [ 1.        , 51.54772027, 46.85629026],\n",
              "       [ 1.        , 94.44336777, 65.56892161],\n",
              "       [ 1.        , 82.36875376, 40.61825516],\n",
              "       [ 1.        , 51.04775177, 45.82270146],\n",
              "       [ 1.        , 62.22267576, 52.06099195],\n",
              "       [ 1.        , 77.19303493, 70.4582    ],\n",
              "       [ 1.        , 97.77159928, 86.72782233],\n",
              "       [ 1.        , 62.0730638 , 96.76882412],\n",
              "       [ 1.        , 91.5649745 , 88.69629255],\n",
              "       [ 1.        , 79.94481794, 74.16311935],\n",
              "       [ 1.        , 99.27252693, 60.999031  ],\n",
              "       [ 1.        , 90.54671411, 43.39060181],\n",
              "       [ 1.        , 34.52451385, 60.39634246],\n",
              "       [ 1.        , 50.28649612, 49.80453881],\n",
              "       [ 1.        , 49.58667722, 59.80895099],\n",
              "       [ 1.        , 97.64563396, 68.86157272],\n",
              "       [ 1.        , 32.57720017, 95.59854761],\n",
              "       [ 1.        , 74.24869137, 69.82457123],\n",
              "       [ 1.        , 71.79646206, 78.45356225],\n",
              "       [ 1.        , 75.39561147, 85.75993667],\n",
              "       [ 1.        , 35.28611282, 47.02051395],\n",
              "       [ 1.        , 56.2538175 , 39.26147251],\n",
              "       [ 1.        , 30.05882245, 49.59297387],\n",
              "       [ 1.        , 44.66826172, 66.45008615],\n",
              "       [ 1.        , 66.56089447, 41.09209808],\n",
              "       [ 1.        , 40.45755098, 97.53518549],\n",
              "       [ 1.        , 49.07256322, 51.88321182],\n",
              "       [ 1.        , 80.27957401, 92.11606081],\n",
              "       [ 1.        , 66.74671857, 60.99139403],\n",
              "       [ 1.        , 32.72283304, 43.30717306],\n",
              "       [ 1.        , 64.03932042, 78.03168802],\n",
              "       [ 1.        , 72.34649423, 96.22759297],\n",
              "       [ 1.        , 60.45788574, 73.0949981 ],\n",
              "       [ 1.        , 58.84095622, 75.85844831],\n",
              "       [ 1.        , 99.8278578 , 72.36925193],\n",
              "       [ 1.        , 47.26426911, 88.475865  ],\n",
              "       [ 1.        , 50.4581598 , 75.80985953],\n",
              "       [ 1.        , 60.45555629, 42.50840944],\n",
              "       [ 1.        , 82.22666158, 42.71987854],\n",
              "       [ 1.        , 88.91389642, 69.8037889 ],\n",
              "       [ 1.        , 94.83450672, 45.6943068 ],\n",
              "       [ 1.        , 67.31925747, 66.58935318],\n",
              "       [ 1.        , 57.23870632, 59.51428198],\n",
              "       [ 1.        , 80.366756  , 90.9601479 ],\n",
              "       [ 1.        , 68.46852179, 85.5943071 ],\n",
              "       [ 1.        , 42.07545454, 78.844786  ],\n",
              "       [ 1.        , 75.47770201, 90.424539  ],\n",
              "       [ 1.        , 78.63542435, 96.64742717],\n",
              "       [ 1.        , 52.34800399, 60.76950526],\n",
              "       [ 1.        , 94.09433113, 77.15910509],\n",
              "       [ 1.        , 90.44855097, 87.50879176],\n",
              "       [ 1.        , 55.48216114, 35.57070347],\n",
              "       [ 1.        , 74.49269242, 84.84513685],\n",
              "       [ 1.        , 89.84580671, 45.35828361],\n",
              "       [ 1.        , 83.48916274, 48.3802858 ],\n",
              "       [ 1.        , 42.26170081, 87.10385094],\n",
              "       [ 1.        , 99.31500881, 68.77540947],\n",
              "       [ 1.        , 55.34001756, 64.93193801],\n",
              "       [ 1.        , 74.775893  , 89.5298129 ]])"
            ]
          },
          "metadata": {
            "tags": []
          },
          "execution_count": 254
        }
      ]
    },
    {
      "cell_type": "code",
      "metadata": {
        "id": "ojunfV4m60du",
        "colab_type": "code",
        "colab": {}
      },
      "source": [
        ""
      ],
      "execution_count": null,
      "outputs": []
    },
    {
      "cell_type": "markdown",
      "metadata": {
        "id": "YRipBMLD60dx",
        "colab_type": "text"
      },
      "source": [
        "## LOGISTIC REGRESSION"
      ]
    },
    {
      "cell_type": "code",
      "metadata": {
        "id": "Q6zhOps560dx",
        "colab_type": "code",
        "colab": {}
      },
      "source": [
        "class logistic_regression():\n",
        "    def __init__(self,alpha=0.001,iterations=100000):\n",
        "        self._theta=0\n",
        "        self._grad=0\n",
        "        self._alpha=0.001 # Learning Rate\n",
        "        self._iters=100000 # Iterations\n",
        "        self._J=0\n",
        "    \n",
        "    def _sigmoid(self,z):\n",
        "        \"\"\"\n",
        "        Compute sigmoid function given the input z.\n",
        "        \"\"\"\n",
        "    \n",
        "        z=np.array(z)\n",
        "        return 1 / (1 + np.exp(-z))\n",
        "\n",
        "\n",
        "    def _hx(self,theta,X):\n",
        "        \"\"\"\n",
        "            Compute Transpose Matrix\n",
        "    \n",
        "        \"\"\"\n",
        "        return np.dot(X,self._theta)\n",
        "    \n",
        "    def _sigmoid_hx(self,theta,X):\n",
        "        \"\"\"\n",
        "    \n",
        "            Passing the input matrix to a sigmoid function\n",
        "    \n",
        "        \"\"\"\n",
        "        return self._sigmoid(hx(self._theta,X))\n",
        "    \n",
        "    \n",
        "    def fit(self,X, y):\n",
        "        \"\"\"\n",
        "            Compute cost and gradient for logistic regression. \n",
        "    \n",
        "        \"\"\" \n",
        "\n",
        "        m = y.size #Training Size\n",
        "    \n",
        "        self._theta = np.zeros(n+1)  #Initialising Theta\n",
        "        self._grad = np.zeros(theta.shape) #Initialising gradient\n",
        "\n",
        "        for i in range(0,self._iters):\n",
        "            self._J=(-1/(y.size))*(np.sum(y*np.log(self._sigmoid_hx(self._theta,X))+(1-y)*np.log(1-self._sigmoid_hx(self._theta,X))))\n",
        "    \n",
        "            self._grad=(1 / m) * np.dot(X.T,self._sigmoid(hx(self._theta,X)) - y)\n",
        "        \n",
        "            self._theta=self._theta-(self._alpha)*self._grad\n",
        "        \n",
        "    \n",
        "    \n",
        "    def predict(self,X):\n",
        "        \n",
        "        predict_probabilities=self._sigmoid_hx(self._theta,X)\n",
        "    \n",
        "        y_pred_labels=predict_probabilities>0.5\n",
        "    \n",
        "        return y_pred_labels\n",
        "    \n",
        "    \n",
        "    def accuracy(self,y_predicted,y_test):\n",
        "    \n",
        "        y_predicted=np.where(y_predicted==True,1,y_predicted)\n",
        "        \n",
        "        accuracy=(y_predicted[y_predicted==y_test].size)/(y_predicted.size)*100\n",
        "        \n",
        "        return accuracy\n",
        "\n",
        "    def get_gradient(self):\n",
        "        \"\"\"\n",
        "         Public Method to return gradient value\n",
        "        \"\"\"\n",
        "        return self._grad\n",
        "    \n",
        "    def get_cost(self):\n",
        "        \"\"\"\n",
        "         Public Method to return Cost\n",
        "        \"\"\"\n",
        "        return self._J\n",
        "    \n",
        "    def get_theta(self):\n",
        "        \"\"\"\n",
        "         Public Method to return theta\n",
        "        \"\"\"\n",
        "        return self._theta\n"
      ],
      "execution_count": null,
      "outputs": []
    },
    {
      "cell_type": "code",
      "metadata": {
        "id": "Slib_raQ60dz",
        "colab_type": "code",
        "colab": {}
      },
      "source": [
        "logReg=logistic_regression() # CREATE INSTANCE OF LOGISTIC REGRESSION "
      ],
      "execution_count": null,
      "outputs": []
    },
    {
      "cell_type": "code",
      "metadata": {
        "id": "lE5LAH6H60d1",
        "colab_type": "code",
        "colab": {}
      },
      "source": [
        "logReg.fit(X,y) # FIT THE MODEL"
      ],
      "execution_count": null,
      "outputs": []
    },
    {
      "cell_type": "code",
      "metadata": {
        "id": "RKV4BCDp60d3",
        "colab_type": "code",
        "colab": {}
      },
      "source": [
        "y_out=logReg.predict(X)  # PREDICT THE OUTPUT"
      ],
      "execution_count": null,
      "outputs": []
    },
    {
      "cell_type": "code",
      "metadata": {
        "id": "yygnxOV-60d5",
        "colab_type": "code",
        "colab": {},
        "outputId": "bd5e9109-1eca-4826-d6ef-1f5fe28f79e6"
      },
      "source": [
        "print(log.accuracy(y_out,y))  # PRINT ACCURACY"
      ],
      "execution_count": null,
      "outputs": [
        {
          "output_type": "stream",
          "text": [
            "91.0\n"
          ],
          "name": "stdout"
        }
      ]
    },
    {
      "cell_type": "markdown",
      "metadata": {
        "id": "DyWHbvbl60d7",
        "colab_type": "text"
      },
      "source": [
        "## Visualising Decision Boundary"
      ]
    },
    {
      "cell_type": "code",
      "metadata": {
        "id": "oXLp67-W60d7",
        "colab_type": "code",
        "colab": {}
      },
      "source": [
        "def plotDecisionBoundary(plotData, theta, X, y):\n",
        "    \n",
        "    \"\"\"\n",
        "    Plots the data points X and y into a new figure with the decision boundary defined by theta.\n",
        "    Plots the data points with * for the positive examples and o for  the negative examples.\n",
        "    \"\"\"\n",
        "    \n",
        "    # make sure theta is a numpy array\n",
        "    theta = np.array(theta)\n",
        "    \n",
        "    # Plot Data (remember first column in X is the intercept)\n",
        "    plotData(X[:, 1:3], y)\n",
        "\n",
        "\n",
        "    \n",
        "    # Only need 2 points to define a line, so choose two endpoints\n",
        "    plot_x = np.array([np.min(X[:, 1]) - 2, np.max(X[:, 1]) + 2])\n",
        "\n",
        "    # Calculate the decision boundary line\n",
        "    plot_y = ((-1) / theta[2]) * (theta[1] * plot_x + theta[0])\n",
        "\n",
        "    # Plot, and adjust axes for better viewing\n",
        "    plt.plot(plot_x, plot_y)\n",
        "\n",
        "        # Legend, specific for the exercise\n",
        "    plt.legend(['Admitted', 'Not Admitted', 'Decision Boundary'])\n"
      ],
      "execution_count": null,
      "outputs": []
    },
    {
      "cell_type": "code",
      "metadata": {
        "id": "pz1TukoH60d9",
        "colab_type": "code",
        "colab": {},
        "outputId": "c878b806-de52-42d1-991e-4ff39927dd12"
      },
      "source": [
        "plotDecisionBoundary(plotData,logReg.get_theta(),X,y)"
      ],
      "execution_count": null,
      "outputs": [
        {
          "output_type": "display_data",
          "data": {
            "image/png": "[encoded data removed]",
            "text/plain": [
              "<Figure size 432x288 with 1 Axes>"
            ]
          },
          "metadata": {
            "tags": [],
            "needs_background": "light"
          }
        }
      ]
    },
    {
      "cell_type": "code",
      "metadata": {
        "id": "F9DKXMEW60d_",
        "colab_type": "code",
        "colab": {}
      },
      "source": [
        ""
      ],
      "execution_count": null,
      "outputs": []
    }
  ]
}