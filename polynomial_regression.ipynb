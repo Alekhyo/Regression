{
  "nbformat": 4,
  "nbformat_minor": 0,
  "metadata": {
    "kernelspec": {
      "display_name": "Python 3",
      "language": "python",
      "name": "python3"
    },
    "language_info": {
      "codemirror_mode": {
        "name": "ipython",
        "version": 3
      },
      "file_extension": ".py",
      "mimetype": "text/x-python",
      "name": "python",
      "nbconvert_exporter": "python",
      "pygments_lexer": "ipython3",
      "version": "3.7.6"
    },
    "colab": {
      "name": "poly_reg.ipynb",
      "provenance": [],
      "include_colab_link": true
    }
  },
  "cells": [
    {
      "cell_type": "markdown",
      "metadata": {
        "id": "view-in-github",
        "colab_type": "text"
      },
      "source": [
        "<a href=\"https://colab.research.google.com/github/Alekhyo/Regression/blob/master/polynomial_regression.ipynb\" target=\"_parent\"><img src=\"https://colab.research.google.com/assets/colab-badge.svg\" alt=\"Open In Colab\"/></a>"
      ]
    },
    {
      "cell_type": "code",
      "metadata": {
        "id": "fen3Lj2EKRuW",
        "colab_type": "code",
        "colab": {}
      },
      "source": [
        "import numpy as np\n",
        "import pandas as pd\n",
        "import matplotlib.pyplot as plt\n",
        "%matplotlib inline\n",
        "from sklearn.metrics import r2_score,mean_squared_error\n",
        "from sklearn.linear_model import LinearRegression\n",
        "from sklearn.model_selection import train_test_split"
      ],
      "execution_count": 0,
      "outputs": []
    },
    {
      "cell_type": "code",
      "metadata": {
        "id": "zEw3Yx1WKRum",
        "colab_type": "code",
        "colab": {}
      },
      "source": [
        "def plotData(X,y):\n",
        "    \"\"\"\n",
        "        Function to plot data between Level and Salary\n",
        "        \n",
        "    \"\"\"\n",
        "    plt.scatter(X,y,label=\"data points\")\n",
        "    plt.legend()\n",
        "    plt.xlabel('Level')\n",
        "    plt.ylabel('Salary')\n",
        "    "
      ],
      "execution_count": 0,
      "outputs": []
    },
    {
      "cell_type": "markdown",
      "metadata": {
        "id": "31sr5epBKRuy",
        "colab_type": "text"
      },
      "source": [
        "## Analysing data"
      ]
    },
    {
      "cell_type": "code",
      "metadata": {
        "id": "R8A7gu30KRu0",
        "colab_type": "code",
        "colab": {}
      },
      "source": [
        "data=pd.read_csv(\"Position_Salaries.csv\")"
      ],
      "execution_count": 0,
      "outputs": []
    },
    {
      "cell_type": "code",
      "metadata": {
        "id": "T1PZzOdJKRvA",
        "colab_type": "code",
        "colab": {},
        "outputId": "7e1c3f50-2317-4abf-cfa1-3f1832e57e53"
      },
      "source": [
        "data"
      ],
      "execution_count": 0,
      "outputs": [
        {
          "output_type": "execute_result",
          "data": {
            "text/html": [
              "<div>\n",
              "<style scoped>\n",
              "    .dataframe tbody tr th:only-of-type {\n",
              "        vertical-align: middle;\n",
              "    }\n",
              "\n",
              "    .dataframe tbody tr th {\n",
              "        vertical-align: top;\n",
              "    }\n",
              "\n",
              "    .dataframe thead th {\n",
              "        text-align: right;\n",
              "    }\n",
              "</style>\n",
              "<table border=\"1\" class=\"dataframe\">\n",
              "  <thead>\n",
              "    <tr style=\"text-align: right;\">\n",
              "      <th></th>\n",
              "      <th>Position</th>\n",
              "      <th>Level</th>\n",
              "      <th>Salary</th>\n",
              "    </tr>\n",
              "  </thead>\n",
              "  <tbody>\n",
              "    <tr>\n",
              "      <th>0</th>\n",
              "      <td>Business Analyst</td>\n",
              "      <td>1</td>\n",
              "      <td>45000</td>\n",
              "    </tr>\n",
              "    <tr>\n",
              "      <th>1</th>\n",
              "      <td>Junior Consultant</td>\n",
              "      <td>2</td>\n",
              "      <td>50000</td>\n",
              "    </tr>\n",
              "    <tr>\n",
              "      <th>2</th>\n",
              "      <td>Senior Consultant</td>\n",
              "      <td>3</td>\n",
              "      <td>60000</td>\n",
              "    </tr>\n",
              "    <tr>\n",
              "      <th>3</th>\n",
              "      <td>Manager</td>\n",
              "      <td>4</td>\n",
              "      <td>80000</td>\n",
              "    </tr>\n",
              "    <tr>\n",
              "      <th>4</th>\n",
              "      <td>Country Manager</td>\n",
              "      <td>5</td>\n",
              "      <td>110000</td>\n",
              "    </tr>\n",
              "    <tr>\n",
              "      <th>5</th>\n",
              "      <td>Region Manager</td>\n",
              "      <td>6</td>\n",
              "      <td>150000</td>\n",
              "    </tr>\n",
              "    <tr>\n",
              "      <th>6</th>\n",
              "      <td>Partner</td>\n",
              "      <td>7</td>\n",
              "      <td>200000</td>\n",
              "    </tr>\n",
              "    <tr>\n",
              "      <th>7</th>\n",
              "      <td>Senior Partner</td>\n",
              "      <td>8</td>\n",
              "      <td>300000</td>\n",
              "    </tr>\n",
              "    <tr>\n",
              "      <th>8</th>\n",
              "      <td>C-level</td>\n",
              "      <td>9</td>\n",
              "      <td>500000</td>\n",
              "    </tr>\n",
              "    <tr>\n",
              "      <th>9</th>\n",
              "      <td>CEO</td>\n",
              "      <td>10</td>\n",
              "      <td>1000000</td>\n",
              "    </tr>\n",
              "  </tbody>\n",
              "</table>\n",
              "</div>"
            ],
            "text/plain": [
              "            Position  Level   Salary\n",
              "0   Business Analyst      1    45000\n",
              "1  Junior Consultant      2    50000\n",
              "2  Senior Consultant      3    60000\n",
              "3            Manager      4    80000\n",
              "4    Country Manager      5   110000\n",
              "5     Region Manager      6   150000\n",
              "6            Partner      7   200000\n",
              "7     Senior Partner      8   300000\n",
              "8            C-level      9   500000\n",
              "9                CEO     10  1000000"
            ]
          },
          "metadata": {
            "tags": []
          },
          "execution_count": 346
        }
      ]
    },
    {
      "cell_type": "code",
      "metadata": {
        "id": "Fo-4fykzKRvM",
        "colab_type": "code",
        "colab": {},
        "outputId": "9829a25d-e49f-4591-c4ee-faae15bbf39e"
      },
      "source": [
        "data.info()"
      ],
      "execution_count": 0,
      "outputs": [
        {
          "output_type": "stream",
          "text": [
            "<class 'pandas.core.frame.DataFrame'>\n",
            "RangeIndex: 10 entries, 0 to 9\n",
            "Data columns (total 3 columns):\n",
            "Position    10 non-null object\n",
            "Level       10 non-null int64\n",
            "Salary      10 non-null int64\n",
            "dtypes: int64(2), object(1)\n",
            "memory usage: 368.0+ bytes\n"
          ],
          "name": "stdout"
        }
      ]
    },
    {
      "cell_type": "code",
      "metadata": {
        "id": "7TN6OELUKRvW",
        "colab_type": "code",
        "colab": {},
        "outputId": "e51eb9e9-916a-4fd0-c823-fc053ea8cd62"
      },
      "source": [
        "data.isnull().sum()"
      ],
      "execution_count": 0,
      "outputs": [
        {
          "output_type": "execute_result",
          "data": {
            "text/plain": [
              "Position    0\n",
              "Level       0\n",
              "Salary      0\n",
              "dtype: int64"
            ]
          },
          "metadata": {
            "tags": []
          },
          "execution_count": 348
        }
      ]
    },
    {
      "cell_type": "code",
      "metadata": {
        "id": "sBium_Y8KRvh",
        "colab_type": "code",
        "colab": {},
        "outputId": "16120ea6-de49-4c1d-e5cd-ad9e02fa219d"
      },
      "source": [
        "data.shape"
      ],
      "execution_count": 0,
      "outputs": [
        {
          "output_type": "execute_result",
          "data": {
            "text/plain": [
              "(10, 3)"
            ]
          },
          "metadata": {
            "tags": []
          },
          "execution_count": 349
        }
      ]
    },
    {
      "cell_type": "code",
      "metadata": {
        "id": "3p4O2BgcKRvq",
        "colab_type": "code",
        "colab": {}
      },
      "source": [
        "X=data.iloc[:,1:2].values\n",
        "y=data.iloc[:,-1].values"
      ],
      "execution_count": 0,
      "outputs": []
    },
    {
      "cell_type": "markdown",
      "metadata": {
        "id": "OcwNVN1ZKRvw",
        "colab_type": "text"
      },
      "source": [
        "# Visualising Data"
      ]
    },
    {
      "cell_type": "code",
      "metadata": {
        "id": "-mT3e2glKRvx",
        "colab_type": "code",
        "colab": {},
        "outputId": "1c592cd5-7432-4a8f-db23-14528bf5c0a2"
      },
      "source": [
        "plotData(X,y)"
      ],
      "execution_count": 0,
      "outputs": [
        {
          "output_type": "display_data",
          "data": {
            "image/png": "[encoded data removed]",
            "text/plain": [
              "<Figure size 432x288 with 1 Axes>"
            ]
          },
          "metadata": {
            "tags": [],
            "needs_background": "light"
          }
        }
      ]
    },
    {
      "cell_type": "markdown",
      "metadata": {
        "id": "As42m5YcKRv2",
        "colab_type": "text"
      },
      "source": [
        "# The graph has non-linear relationship between Salary and Podition. Polynomial Regression is preferable over Linear Regression"
      ]
    },
    {
      "cell_type": "code",
      "metadata": {
        "id": "2ApaO_cHKRv3",
        "colab_type": "code",
        "colab": {}
      },
      "source": [
        "X=data.iloc[:,1:2].values\n",
        "y=data.iloc[:,-1].values"
      ],
      "execution_count": 0,
      "outputs": []
    },
    {
      "cell_type": "code",
      "metadata": {
        "id": "gE54qCLvKRv7",
        "colab_type": "code",
        "colab": {}
      },
      "source": [
        "X_train,X_test,y_train,y_test=train_test_split(X,y,test_size=0.2,random_state=0)"
      ],
      "execution_count": 0,
      "outputs": []
    },
    {
      "cell_type": "markdown",
      "metadata": {
        "id": "rJgmSG0iKRwA",
        "colab_type": "text"
      },
      "source": [
        "# Linear Regression"
      ]
    },
    {
      "cell_type": "code",
      "metadata": {
        "id": "dN8g2FMTKRwB",
        "colab_type": "code",
        "colab": {}
      },
      "source": [
        "lr=LinearRegression()"
      ],
      "execution_count": 0,
      "outputs": []
    },
    {
      "cell_type": "code",
      "metadata": {
        "id": "UlssXSLRKRwE",
        "colab_type": "code",
        "colab": {},
        "outputId": "7db8bb62-b21b-41f6-a2ed-660399ecca68"
      },
      "source": [
        "lr.fit(X_train,y_train)"
      ],
      "execution_count": 0,
      "outputs": [
        {
          "output_type": "execute_result",
          "data": {
            "text/plain": [
              "LinearRegression(copy_X=True, fit_intercept=True, n_jobs=None, normalize=False)"
            ]
          },
          "metadata": {
            "tags": []
          },
          "execution_count": 355
        }
      ]
    },
    {
      "cell_type": "code",
      "metadata": {
        "id": "flmxdf01KRwH",
        "colab_type": "code",
        "colab": {}
      },
      "source": [
        "y_pred=lr.predict(X_test)"
      ],
      "execution_count": 0,
      "outputs": []
    },
    {
      "cell_type": "code",
      "metadata": {
        "id": "V607HCjvKRwK",
        "colab_type": "code",
        "colab": {},
        "outputId": "32573a6f-87ae-4e66-8d9e-776b249e4c0c"
      },
      "source": [
        "print(\"R2 score of Linear Regression Model is \",r2_score(y_test,y_pred))\n",
        "print(\"RMSE of Linear Regression Model is \",np.sqrt(mean_squared_error(y_test,y_pred)))"
      ],
      "execution_count": 0,
      "outputs": [
        {
          "output_type": "stream",
          "text": [
            "R2 score of Linear Regression Model is  0.9779215014976274\n",
            "RMSE of Linear Regression Model is  32689.437552745294\n"
          ],
          "name": "stdout"
        }
      ]
    },
    {
      "cell_type": "code",
      "metadata": {
        "id": "qsKirdVsKRwN",
        "colab_type": "code",
        "colab": {},
        "outputId": "897e5eb7-b5c6-4b81-c08c-6c0f263b3c7d"
      },
      "source": [
        "plotData(X,y)\n",
        "plt.plot(X_test,L.predict(X_test),label=\"Best Fitted Line\",color='r')\n",
        "plt.legend()\n",
        "plt.show()"
      ],
      "execution_count": 0,
      "outputs": [
        {
          "output_type": "display_data",
          "data": {
            "image/png": "[encoded data removed]",
            "text/plain": [
              "<Figure size 432x288 with 1 Axes>"
            ]
          },
          "metadata": {
            "tags": [],
            "needs_background": "light"
          }
        }
      ]
    },
    {
      "cell_type": "markdown",
      "metadata": {
        "id": "mtg_LeZBKRwQ",
        "colab_type": "text"
      },
      "source": [
        "## Polynomial Regression"
      ]
    },
    {
      "cell_type": "code",
      "metadata": {
        "id": "pd8Ny56CKRwR",
        "colab_type": "code",
        "colab": {}
      },
      "source": [
        "def plot_polyCurve(X,y,degree):\n",
        "    \n",
        "    poly = PolynomialFeatures(degree=degree)\n",
        "    X_poly = poly.fit_transform(X)\n",
        "    lr = LinearRegression()\n",
        "    lr.fit(X_poly,y)\n",
        "  \n",
        "    X_test_poly =poly.fit_transform(X)\n",
        "    y_pred=lr.predict(X_test_poly)\n",
        "    \n",
        "    plt.plot(X,y_pred, label=\"Model\",color='red')\n",
        "    plt.scatter(X, y, label=\"data\",color='green')\n",
        "    plt.legend()\n",
        "    plt.show()\n",
        "    \n",
        "    print(\"The r2 score of the model is \" ,r2_score(y,y_pred))"
      ],
      "execution_count": 0,
      "outputs": []
    },
    {
      "cell_type": "markdown",
      "metadata": {
        "id": "0gwBPt8lKRwU",
        "colab_type": "text"
      },
      "source": [
        "## Polynomial Regression for degree=2"
      ]
    },
    {
      "cell_type": "code",
      "metadata": {
        "id": "kXEPEODSKRwU",
        "colab_type": "code",
        "colab": {}
      },
      "source": [
        "from sklearn.preprocessing import PolynomialFeatures\n",
        "poly = PolynomialFeatures(degree=2)"
      ],
      "execution_count": 0,
      "outputs": []
    },
    {
      "cell_type": "code",
      "metadata": {
        "id": "w5Zeuo3HKRwX",
        "colab_type": "code",
        "colab": {}
      },
      "source": [
        "X_poly = poly.fit_transform(X_train)\n",
        "\n",
        "Lr_poly = LinearRegression()\n",
        "Lr_poly.fit(X_poly,y_train)\n",
        "\n",
        "X_test_poly =poly.fit_transform(X_test)\n",
        "y_pred=Lr_poly.predict(X_test_poly)"
      ],
      "execution_count": 0,
      "outputs": []
    },
    {
      "cell_type": "code",
      "metadata": {
        "id": "eqeEa2WlKRwa",
        "colab_type": "code",
        "colab": {},
        "outputId": "f3d446db-94ac-4831-9d40-35729957e1bb"
      },
      "source": [
        "plot_polyCurve(X,y,2)\n",
        "print(\"RMSE score of the model is \",np.sqrt(mean_squared_error(y_test,y_pred)))"
      ],
      "execution_count": 0,
      "outputs": [
        {
          "output_type": "display_data",
          "data": {
            "image/png": "[encoded data removed]",
            "text/plain": [
              "<Figure size 432x288 with 1 Axes>"
            ]
          },
          "metadata": {
            "tags": [],
            "needs_background": "light"
          }
        },
        {
          "output_type": "stream",
          "text": [
            "The r2 score of the model is  0.9162082221443942\n",
            "RMSE score of the model is  119393.19375211064\n"
          ],
          "name": "stdout"
        }
      ]
    },
    {
      "cell_type": "code",
      "metadata": {
        "id": "PXCSVI7kKRwc",
        "colab_type": "code",
        "colab": {}
      },
      "source": [
        ""
      ],
      "execution_count": 0,
      "outputs": []
    },
    {
      "cell_type": "markdown",
      "metadata": {
        "id": "-yT7N8rzKRwf",
        "colab_type": "text"
      },
      "source": [
        "## Polynomial Regression for degree=5"
      ]
    },
    {
      "cell_type": "code",
      "metadata": {
        "id": "T3ypB9H8KRwh",
        "colab_type": "code",
        "colab": {}
      },
      "source": [
        "poly = PolynomialFeatures(degree=5)"
      ],
      "execution_count": 0,
      "outputs": []
    },
    {
      "cell_type": "code",
      "metadata": {
        "id": "R5GxVMg7KRwj",
        "colab_type": "code",
        "colab": {}
      },
      "source": [
        "X_poly = poly.fit_transform(X_train)\n",
        "\n",
        "Lr_poly = LinearRegression()\n",
        "Lr_poly.fit(X_poly,y_train)\n",
        "\n",
        "X_test_poly =poly.fit_transform(X_test)\n",
        "y_pred=Lr_poly.predict(X_test_poly)"
      ],
      "execution_count": 0,
      "outputs": []
    },
    {
      "cell_type": "code",
      "metadata": {
        "id": "tqLx4ANVKRwm",
        "colab_type": "code",
        "colab": {},
        "outputId": "8ab1f57f-662a-4ed4-b56b-b1d5df27b884"
      },
      "source": [
        "plot_polyCurve(X,y,5)\n",
        "print(\"RMSE score of the model is \",np.sqrt(mean_squared_error(y_test,y_pred)))"
      ],
      "execution_count": 0,
      "outputs": [
        {
          "output_type": "display_data",
          "data": {
            "image/png": "[encoded data removed]",
            "text/plain": [
              "<Figure size 432x288 with 1 Axes>"
            ]
          },
          "metadata": {
            "tags": [],
            "needs_background": "light"
          }
        },
        {
          "output_type": "stream",
          "text": [
            "The r2 score of the model is  0.9997969027099755\n",
            "RMSE score of the model is  16512.54757112578\n"
          ],
          "name": "stdout"
        }
      ]
    },
    {
      "cell_type": "code",
      "metadata": {
        "id": "T0vIbmmyKRwo",
        "colab_type": "code",
        "colab": {}
      },
      "source": [
        ""
      ],
      "execution_count": 0,
      "outputs": []
    },
    {
      "cell_type": "markdown",
      "metadata": {
        "id": "InLunMZRKRwr",
        "colab_type": "text"
      },
      "source": [
        "### A function to calculate polynomial regression for various degrees"
      ]
    },
    {
      "cell_type": "code",
      "metadata": {
        "id": "xCoyHqNkKRwr",
        "colab_type": "code",
        "colab": {}
      },
      "source": [
        "def find_best_polynomialRegression(X,y,deg):\n",
        "    \n",
        "    X_train,X_test,Y_train,Y_test=train_test_split(X,y,test_size=0.2,random_state=0)\n",
        "    \n",
        "    poly = PolynomialFeatures(degree=deg)\n",
        "    X_train_poly = poly.fit_transform(X_train)\n",
        "    lr_poly = LinearRegression()\n",
        "    lr_poly.fit(X_train_poly,y_train)\n",
        "    \n",
        "    X_test_poly =poly.fit_transform(X_test)\n",
        "    y_pred=lr_poly.predict(X_test_poly)\n",
        "    \n",
        "    training_r2_score = r2_score(y_train, lr_poly.predict(X_train_poly))\n",
        "    test_r2_score = r2_score(y_test,y_pred)\n",
        "    \n",
        "    return training_r2_score, test_r2_score"
      ],
      "execution_count": 0,
      "outputs": []
    },
    {
      "cell_type": "code",
      "metadata": {
        "id": "d95Pr52EKRwu",
        "colab_type": "code",
        "colab": {}
      },
      "source": [
        "train=[]\n",
        "test=[]\n",
        "\n",
        "for i in range(1,35):\n",
        "    score_r2_train,score_r2_test=find_best_polynomialRegression(X,y,i)\n",
        "    \n",
        "    train.append(score_r2_train)\n",
        "    test.append(score_r2_test)"
      ],
      "execution_count": 0,
      "outputs": []
    },
    {
      "cell_type": "markdown",
      "metadata": {
        "id": "rrxTupC2KRww",
        "colab_type": "text"
      },
      "source": [
        "## Plotting the variation in Training Score and Test Score "
      ]
    },
    {
      "cell_type": "code",
      "metadata": {
        "id": "GbGc8OL0KRwx",
        "colab_type": "code",
        "colab": {},
        "outputId": "cf267d1f-c1a8-4fdd-c9ab-964172007267"
      },
      "source": [
        "x=np.arange(34)+1\n",
        "plt.plot(x,train,label=\"Training R2 Score\")\n",
        "plt.plot(x,test,label=\"Test R2 Score\")\n",
        "\n",
        "plt.xlabel(\"Degree\")\n",
        "plt.ylabel(\"r2_Score\")\n",
        "\n",
        "plt.title(\"Training Score Vs Test Score\")\n",
        "\n",
        "plt.legend()\n",
        "plt.show()"
      ],
      "execution_count": 0,
      "outputs": [
        {
          "output_type": "display_data",
          "data": {
            "image/png": "[encoded data removed]",
            "text/plain": [
              "<Figure size 432x288 with 1 Axes>"
            ]
          },
          "metadata": {
            "tags": [],
            "needs_background": "light"
          }
        }
      ]
    },
    {
      "cell_type": "markdown",
      "metadata": {
        "id": "LFRaCNpjKRwz",
        "colab_type": "text"
      },
      "source": [
        "### As the distinction is not clear, we find the the degree with least difference between Training Score and Test Score"
      ]
    },
    {
      "cell_type": "code",
      "metadata": {
        "id": "EN7BHXjTKRwz",
        "colab_type": "code",
        "colab": {},
        "outputId": "6f8ff152-5f35-4829-c03a-1239c8a33139"
      },
      "source": [
        "train=np.array(train)\n",
        "test=np.array(test)\n",
        "\n",
        "difference=np.subtract(test,train)\n",
        "\n",
        "absolute_difference=np.abs(difference)\n",
        "\n",
        "print(\"The degree with least difference between Training Score and Test Score is \",np.argmin(absolute_difference)+1)"
      ],
      "execution_count": 0,
      "outputs": [
        {
          "output_type": "stream",
          "text": [
            "The degree with least difference between Training Score and Test Score is  6\n"
          ],
          "name": "stdout"
        }
      ]
    },
    {
      "cell_type": "markdown",
      "metadata": {
        "id": "cF4Aye2RKRw3",
        "colab_type": "text"
      },
      "source": [
        "#### Plotting the curve for degree=6"
      ]
    },
    {
      "cell_type": "code",
      "metadata": {
        "id": "_V0IpidIKRw3",
        "colab_type": "code",
        "colab": {},
        "outputId": "013297f8-4100-4fd5-a43b-64ec312059af"
      },
      "source": [
        "plot_polyCurve(X,y,6)\n",
        "print(\"RMSE score of the model is \",np.sqrt(mean_squared_error(y_test,y_pred)))"
      ],
      "execution_count": 0,
      "outputs": [
        {
          "output_type": "display_data",
          "data": {
            "image/png": "[encoded data removed]",
            "text/plain": [
              "<Figure size 432x288 with 1 Axes>"
            ]
          },
          "metadata": {
            "tags": [],
            "needs_background": "light"
          }
        },
        {
          "output_type": "stream",
          "text": [
            "The r2 score of the model is  0.9999494749253776\n",
            "RMSE score of the model is  16512.54757112578\n"
          ],
          "name": "stdout"
        }
      ]
    },
    {
      "cell_type": "code",
      "metadata": {
        "id": "XCSVy4lIKRw6",
        "colab_type": "code",
        "colab": {}
      },
      "source": [
        ""
      ],
      "execution_count": 0,
      "outputs": []
    }
  ]
}